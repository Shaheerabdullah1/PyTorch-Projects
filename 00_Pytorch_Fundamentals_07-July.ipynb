{
  "nbformat": 4,
  "nbformat_minor": 0,
  "metadata": {
    "colab": {
      "provenance": []
    },
    "kernelspec": {
      "name": "python3",
      "display_name": "Python 3"
    },
    "language_info": {
      "name": "python"
    }
  },
  "cells": [
    {
      "cell_type": "markdown",
      "source": [
        "#### 00. Pytorch Fundamentals"
      ],
      "metadata": {
        "id": "iQiU97ICp9it"
      }
    },
    {
      "cell_type": "code",
      "execution_count": 1,
      "metadata": {
        "id": "pus7IeLqozi4",
        "colab": {
          "base_uri": "https://localhost:8080/"
        },
        "outputId": "6fe1a98d-2a36-4616-d79e-caa112c2686f"
      },
      "outputs": [
        {
          "output_type": "stream",
          "name": "stdout",
          "text": [
            "Hello I am Shaheer Abdullah and excited to learn this course !!\n"
          ]
        }
      ],
      "source": [
        "print(\"Hello I am Shaheer Abdullah and excited to learn this course !!\")"
      ]
    },
    {
      "cell_type": "code",
      "source": [
        "import torch\n",
        "import numpy as np\n",
        "import pandas as pd\n",
        "import matplotlib.pyplot as plt\n",
        "print(torch.__version__)"
      ],
      "metadata": {
        "colab": {
          "base_uri": "https://localhost:8080/"
        },
        "id": "C3CpOUlyqCXJ",
        "outputId": "2a25bead-ef24-45fb-91be-c2acd8e4e605"
      },
      "execution_count": 2,
      "outputs": [
        {
          "output_type": "stream",
          "name": "stdout",
          "text": [
            "2.3.0+cu121\n"
          ]
        }
      ]
    },
    {
      "cell_type": "code",
      "source": [
        "!nvidia-smi"
      ],
      "metadata": {
        "colab": {
          "base_uri": "https://localhost:8080/"
        },
        "id": "mhx5UV4-pmYY",
        "outputId": "9858fdc6-62b9-42d1-9ed3-8185e007fee3"
      },
      "execution_count": 3,
      "outputs": [
        {
          "output_type": "stream",
          "name": "stdout",
          "text": [
            "/bin/bash: line 1: nvidia-smi: command not found\n"
          ]
        }
      ]
    },
    {
      "cell_type": "markdown",
      "source": [
        "### Introduction To Tensors"
      ],
      "metadata": {
        "id": "OELOeRlJsnHZ"
      }
    },
    {
      "cell_type": "code",
      "source": [
        "#Scaler-Tensors\n",
        "scaler = torch.tensor(7)\n",
        "scaler"
      ],
      "metadata": {
        "colab": {
          "base_uri": "https://localhost:8080/"
        },
        "id": "XVDkfTOnqAzk",
        "outputId": "d4ee397c-6138-40e7-e997-2a12d1cf2053"
      },
      "execution_count": 4,
      "outputs": [
        {
          "output_type": "execute_result",
          "data": {
            "text/plain": [
              "tensor(7)"
            ]
          },
          "metadata": {},
          "execution_count": 4
        }
      ]
    },
    {
      "cell_type": "code",
      "source": [
        "scaler.ndim"
      ],
      "metadata": {
        "colab": {
          "base_uri": "https://localhost:8080/"
        },
        "id": "uorwNNc9spNM",
        "outputId": "df35371c-c45c-4d29-fe19-86dc13d4c8c6"
      },
      "execution_count": 5,
      "outputs": [
        {
          "output_type": "execute_result",
          "data": {
            "text/plain": [
              "0"
            ]
          },
          "metadata": {},
          "execution_count": 5
        }
      ]
    },
    {
      "cell_type": "code",
      "source": [
        "#To get back the integer\n",
        "scaler.item()"
      ],
      "metadata": {
        "colab": {
          "base_uri": "https://localhost:8080/"
        },
        "id": "AUeTEHjZdrUY",
        "outputId": "1ad758db-407c-4dba-b28f-c5c27c1cf087"
      },
      "execution_count": 6,
      "outputs": [
        {
          "output_type": "execute_result",
          "data": {
            "text/plain": [
              "7"
            ]
          },
          "metadata": {},
          "execution_count": 6
        }
      ]
    },
    {
      "cell_type": "code",
      "source": [
        "#Vector\n",
        "vector = torch.tensor([7,7])\n",
        "vector"
      ],
      "metadata": {
        "colab": {
          "base_uri": "https://localhost:8080/"
        },
        "id": "u7Td2h-Adz6l",
        "outputId": "eb8d4535-9937-454c-966f-7b08f9c00217"
      },
      "execution_count": 7,
      "outputs": [
        {
          "output_type": "execute_result",
          "data": {
            "text/plain": [
              "tensor([7, 7])"
            ]
          },
          "metadata": {},
          "execution_count": 7
        }
      ]
    },
    {
      "cell_type": "code",
      "source": [
        "vector[1]"
      ],
      "metadata": {
        "colab": {
          "base_uri": "https://localhost:8080/"
        },
        "id": "MC4NwRUyikh7",
        "outputId": "afafe029-13d8-4325-f9e3-c2a3478171cc"
      },
      "execution_count": 45,
      "outputs": [
        {
          "output_type": "execute_result",
          "data": {
            "text/plain": [
              "tensor(7)"
            ]
          },
          "metadata": {},
          "execution_count": 45
        }
      ]
    },
    {
      "cell_type": "code",
      "source": [
        "vector.ndim"
      ],
      "metadata": {
        "colab": {
          "base_uri": "https://localhost:8080/"
        },
        "id": "geuFAt7Zd_-v",
        "outputId": "a0ffde82-af20-4e4e-cfd5-9859350d5913"
      },
      "execution_count": 8,
      "outputs": [
        {
          "output_type": "execute_result",
          "data": {
            "text/plain": [
              "1"
            ]
          },
          "metadata": {},
          "execution_count": 8
        }
      ]
    },
    {
      "cell_type": "code",
      "source": [
        "vector.shape"
      ],
      "metadata": {
        "colab": {
          "base_uri": "https://localhost:8080/"
        },
        "id": "Rho8vEDMeByZ",
        "outputId": "f1345404-fda7-4486-e7a8-3a3e7d48472e"
      },
      "execution_count": 10,
      "outputs": [
        {
          "output_type": "execute_result",
          "data": {
            "text/plain": [
              "torch.Size([2])"
            ]
          },
          "metadata": {},
          "execution_count": 10
        }
      ]
    },
    {
      "cell_type": "code",
      "source": [
        " # Matrix\n",
        "MATRIX =torch.tensor([[7,8],\n",
        "                      [9,10]])\n",
        "MATRIX"
      ],
      "metadata": {
        "colab": {
          "base_uri": "https://localhost:8080/"
        },
        "id": "DUVvZRz3ec74",
        "outputId": "72a4ca52-ae97-4a86-88d2-39941d8b8927"
      },
      "execution_count": 12,
      "outputs": [
        {
          "output_type": "execute_result",
          "data": {
            "text/plain": [
              "tensor([[ 7,  8],\n",
              "        [ 9, 10]])"
            ]
          },
          "metadata": {},
          "execution_count": 12
        }
      ]
    },
    {
      "cell_type": "code",
      "source": [
        "MATRIX[1][1]"
      ],
      "metadata": {
        "colab": {
          "base_uri": "https://localhost:8080/"
        },
        "id": "KqSQ1cM7isw6",
        "outputId": "45c88915-65fe-49fc-8f37-64fed0a20b22"
      },
      "execution_count": 47,
      "outputs": [
        {
          "output_type": "execute_result",
          "data": {
            "text/plain": [
              "tensor(10)"
            ]
          },
          "metadata": {},
          "execution_count": 47
        }
      ]
    },
    {
      "cell_type": "code",
      "source": [
        "MATRIX.ndim"
      ],
      "metadata": {
        "colab": {
          "base_uri": "https://localhost:8080/"
        },
        "id": "dKx3SaeTfB25",
        "outputId": "5c5f9308-48ac-4d59-975c-5597b97c35a8"
      },
      "execution_count": 13,
      "outputs": [
        {
          "output_type": "execute_result",
          "data": {
            "text/plain": [
              "2"
            ]
          },
          "metadata": {},
          "execution_count": 13
        }
      ]
    },
    {
      "cell_type": "code",
      "source": [
        "MATRIX[1]"
      ],
      "metadata": {
        "colab": {
          "base_uri": "https://localhost:8080/"
        },
        "id": "hxz1c91gfGLF",
        "outputId": "52e799b0-e801-4724-8b9f-df436c01fbf0"
      },
      "execution_count": 15,
      "outputs": [
        {
          "output_type": "execute_result",
          "data": {
            "text/plain": [
              "tensor([ 9, 10])"
            ]
          },
          "metadata": {},
          "execution_count": 15
        }
      ]
    },
    {
      "cell_type": "code",
      "source": [
        "MATRIX.shape #Depends upon the square Brackets"
      ],
      "metadata": {
        "colab": {
          "base_uri": "https://localhost:8080/"
        },
        "id": "rQsy66o6fI2M",
        "outputId": "c1786832-c844-4b98-b2b5-ad97efcedeed"
      },
      "execution_count": 16,
      "outputs": [
        {
          "output_type": "execute_result",
          "data": {
            "text/plain": [
              "torch.Size([2, 2])"
            ]
          },
          "metadata": {},
          "execution_count": 16
        }
      ]
    },
    {
      "cell_type": "code",
      "source": [
        "# Tensor\n",
        "TENSOR = torch.tensor([[[1,2,3],\n",
        "                        [3,6,9],\n",
        "                        [2,4,5]]])\n",
        "TENSOR"
      ],
      "metadata": {
        "colab": {
          "base_uri": "https://localhost:8080/"
        },
        "id": "C4Vx9-4OfNM6",
        "outputId": "b2bcd6e3-7e3c-4eca-d7a5-0a0e781641ee"
      },
      "execution_count": 18,
      "outputs": [
        {
          "output_type": "execute_result",
          "data": {
            "text/plain": [
              "tensor([[[1, 2, 3],\n",
              "         [3, 6, 9],\n",
              "         [2, 4, 5]]])"
            ]
          },
          "metadata": {},
          "execution_count": 18
        }
      ]
    },
    {
      "cell_type": "code",
      "source": [
        "TENSOR.ndim"
      ],
      "metadata": {
        "colab": {
          "base_uri": "https://localhost:8080/"
        },
        "id": "KJNAs5JJfhCX",
        "outputId": "43337f8b-0627-4117-8e7a-8950a2438179"
      },
      "execution_count": 19,
      "outputs": [
        {
          "output_type": "execute_result",
          "data": {
            "text/plain": [
              "3"
            ]
          },
          "metadata": {},
          "execution_count": 19
        }
      ]
    },
    {
      "cell_type": "code",
      "source": [
        "TENSOR.shape"
      ],
      "metadata": {
        "colab": {
          "base_uri": "https://localhost:8080/"
        },
        "id": "UaYaKlybfsDR",
        "outputId": "ce1f3b49-fe99-4b75-eeba-406a08e6b23e"
      },
      "execution_count": 20,
      "outputs": [
        {
          "output_type": "execute_result",
          "data": {
            "text/plain": [
              "torch.Size([1, 3, 3])"
            ]
          },
          "metadata": {},
          "execution_count": 20
        }
      ]
    },
    {
      "cell_type": "code",
      "source": [
        "TENSOR3 = torch.tensor([[[[1,2,3,5],\n",
        "                          [3,4,5,7],\n",
        "                          [1,2,3,5],\n",
        "                          [1,2,3,4],\n",
        "                          [3,4,5,6]]]])"
      ],
      "metadata": {
        "id": "KrIbA_jrfvh3"
      },
      "execution_count": 39,
      "outputs": []
    },
    {
      "cell_type": "code",
      "source": [
        "TENSOR3.shape"
      ],
      "metadata": {
        "colab": {
          "base_uri": "https://localhost:8080/"
        },
        "id": "iY3HPhn0gZ6m",
        "outputId": "7b4cb059-d709-44ec-ade2-177d22102d9d"
      },
      "execution_count": 40,
      "outputs": [
        {
          "output_type": "execute_result",
          "data": {
            "text/plain": [
              "torch.Size([1, 1, 5, 4])"
            ]
          },
          "metadata": {},
          "execution_count": 40
        }
      ]
    },
    {
      "cell_type": "code",
      "source": [
        "TENSOR3.ndim"
      ],
      "metadata": {
        "colab": {
          "base_uri": "https://localhost:8080/"
        },
        "id": "PnaIFW07gb59",
        "outputId": "c2b14f3c-abe9-4888-f16f-a8adb8dd3187"
      },
      "execution_count": 41,
      "outputs": [
        {
          "output_type": "execute_result",
          "data": {
            "text/plain": [
              "4"
            ]
          },
          "metadata": {},
          "execution_count": 41
        }
      ]
    },
    {
      "cell_type": "code",
      "source": [
        "TENSOR3[0][0][1][3]"
      ],
      "metadata": {
        "colab": {
          "base_uri": "https://localhost:8080/"
        },
        "id": "3Ebn6FeYhdNy",
        "outputId": "b75e5bef-8c13-4ff7-dab8-b9737df80e8a"
      },
      "execution_count": 42,
      "outputs": [
        {
          "output_type": "execute_result",
          "data": {
            "text/plain": [
              "tensor(7)"
            ]
          },
          "metadata": {},
          "execution_count": 42
        }
      ]
    },
    {
      "cell_type": "markdown",
      "source": [
        "### Random Tensors"
      ],
      "metadata": {
        "id": "rSVvCN2HqVAF"
      }
    },
    {
      "cell_type": "code",
      "source": [
        "### Random Tensors in brackets give the dimension 3 rows 4 columns\n",
        "random_tensor = torch.rand(3,4)\n",
        "random_tensor"
      ],
      "metadata": {
        "colab": {
          "base_uri": "https://localhost:8080/"
        },
        "id": "7I5OtkYth9Vp",
        "outputId": "d77399f8-126e-45c7-951b-647cb5cc99c5"
      },
      "execution_count": 78,
      "outputs": [
        {
          "output_type": "execute_result",
          "data": {
            "text/plain": [
              "tensor([[0.1221, 0.5380, 0.9834, 0.4910],\n",
              "        [0.8544, 0.6460, 0.9613, 0.1550],\n",
              "        [0.6829, 0.2935, 0.8169, 0.4988]])"
            ]
          },
          "metadata": {},
          "execution_count": 78
        }
      ]
    },
    {
      "cell_type": "code",
      "source": [
        "random_tensor[0][1]"
      ],
      "metadata": {
        "colab": {
          "base_uri": "https://localhost:8080/"
        },
        "id": "iSHWXV10mftD",
        "outputId": "51091b52-7457-4ff4-b3cc-2d6c466a1aee"
      },
      "execution_count": 51,
      "outputs": [
        {
          "output_type": "execute_result",
          "data": {
            "text/plain": [
              "tensor(0.3493)"
            ]
          },
          "metadata": {},
          "execution_count": 51
        }
      ]
    },
    {
      "cell_type": "code",
      "source": [
        "random_tensor.ndim"
      ],
      "metadata": {
        "colab": {
          "base_uri": "https://localhost:8080/"
        },
        "id": "NTKRuZWhmpRn",
        "outputId": "537db67b-f6e2-486c-d18a-ec4fa8c77d3d"
      },
      "execution_count": 52,
      "outputs": [
        {
          "output_type": "execute_result",
          "data": {
            "text/plain": [
              "2"
            ]
          },
          "metadata": {},
          "execution_count": 52
        }
      ]
    },
    {
      "cell_type": "code",
      "source": [
        "random_tensor = torch.rand(1,10,10)\n",
        "random_tensor"
      ],
      "metadata": {
        "colab": {
          "base_uri": "https://localhost:8080/"
        },
        "id": "Eo2D0CCVm3L9",
        "outputId": "617a8d14-a420-4bfd-f92e-e3f6dbbfea17"
      },
      "execution_count": 53,
      "outputs": [
        {
          "output_type": "execute_result",
          "data": {
            "text/plain": [
              "tensor([[[0.0668, 0.2369, 0.0490, 0.6973, 0.2195, 0.3855, 0.4637, 0.9892,\n",
              "          0.8881, 0.4311],\n",
              "         [0.4177, 0.1791, 0.8430, 0.2897, 0.3537, 0.7977, 0.4618, 0.0629,\n",
              "          0.4367, 0.3118],\n",
              "         [0.7424, 0.5498, 0.3846, 0.7014, 0.6224, 0.4697, 0.1546, 0.6090,\n",
              "          0.4811, 0.0229],\n",
              "         [0.7144, 0.2746, 0.8295, 0.4694, 0.5920, 0.6106, 0.3188, 0.9444,\n",
              "          0.5959, 0.9935],\n",
              "         [0.0099, 0.8090, 0.6230, 0.0696, 0.6177, 0.0172, 0.4501, 0.8709,\n",
              "          0.4397, 0.3101],\n",
              "         [0.5641, 0.0235, 0.7415, 0.4215, 0.1585, 0.5840, 0.9170, 0.8383,\n",
              "          0.3168, 0.3336],\n",
              "         [0.1029, 0.6916, 0.9961, 0.5053, 0.7887, 0.0264, 0.4707, 0.4635,\n",
              "          0.3764, 0.1569],\n",
              "         [0.0421, 0.3910, 0.7219, 0.2893, 0.7180, 0.4006, 0.2232, 0.2232,\n",
              "          0.2852, 0.9055],\n",
              "         [0.3837, 0.3815, 0.6846, 0.9123, 0.7085, 0.1920, 0.3660, 0.5380,\n",
              "          0.8257, 0.5311],\n",
              "         [0.7205, 0.8568, 0.5178, 0.2490, 0.9405, 0.8265, 0.8074, 0.8827,\n",
              "          0.4891, 0.1609]]])"
            ]
          },
          "metadata": {},
          "execution_count": 53
        }
      ]
    },
    {
      "cell_type": "code",
      "source": [
        "random_tensor.ndim"
      ],
      "metadata": {
        "colab": {
          "base_uri": "https://localhost:8080/"
        },
        "id": "TXxX80NWnKVA",
        "outputId": "8482dcd3-33c8-44f4-9e23-600e8b11cbcd"
      },
      "execution_count": 54,
      "outputs": [
        {
          "output_type": "execute_result",
          "data": {
            "text/plain": [
              "3"
            ]
          },
          "metadata": {},
          "execution_count": 54
        }
      ]
    },
    {
      "cell_type": "code",
      "source": [
        "random_tensor[0][2][0]"
      ],
      "metadata": {
        "colab": {
          "base_uri": "https://localhost:8080/"
        },
        "id": "aAU1PQkwnN2f",
        "outputId": "3e0adeb1-968a-45b8-8eb5-a8462eb5a704"
      },
      "execution_count": 55,
      "outputs": [
        {
          "output_type": "execute_result",
          "data": {
            "text/plain": [
              "tensor(0.7424)"
            ]
          },
          "metadata": {},
          "execution_count": 55
        }
      ]
    },
    {
      "cell_type": "code",
      "source": [
        "#Create a random tensor with the siilar shape to image\n",
        "\n",
        "random_image_Size_tensor =torch.rand(size=(3,224,224)) ,#cannel RGB,#height , #width\n",
        "random_image_Size_tensor.ndim , random_image_Size_tensor.shape"
      ],
      "metadata": {
        "colab": {
          "base_uri": "https://localhost:8080/"
        },
        "id": "9s_iJ2NrnReA",
        "outputId": "76ad8759-5d2e-4ce8-c125-108b4356c0a6"
      },
      "execution_count": 58,
      "outputs": [
        {
          "output_type": "execute_result",
          "data": {
            "text/plain": [
              "(3, torch.Size([3, 224, 224]))"
            ]
          },
          "metadata": {},
          "execution_count": 58
        }
      ]
    },
    {
      "cell_type": "code",
      "source": [
        "random_torch1 = torch.rand(2,4)\n",
        "random_torch1"
      ],
      "metadata": {
        "colab": {
          "base_uri": "https://localhost:8080/"
        },
        "id": "5uZsd-i4n1Ib",
        "outputId": "d4d34f79-5153-4270-d665-c45e316569fd"
      },
      "execution_count": 62,
      "outputs": [
        {
          "output_type": "execute_result",
          "data": {
            "text/plain": [
              "tensor([[0.3294, 0.0807, 0.9502, 0.0377],\n",
              "        [0.6187, 0.2025, 0.3563, 0.0671]])"
            ]
          },
          "metadata": {},
          "execution_count": 62
        }
      ]
    },
    {
      "cell_type": "code",
      "source": [
        "random_torch1[1][1]"
      ],
      "metadata": {
        "colab": {
          "base_uri": "https://localhost:8080/"
        },
        "id": "EF7eMkk6on3I",
        "outputId": "f17f2445-1451-48f9-8d4b-f6c78c3365f8"
      },
      "execution_count": 64,
      "outputs": [
        {
          "output_type": "execute_result",
          "data": {
            "text/plain": [
              "tensor(0.2025)"
            ]
          },
          "metadata": {},
          "execution_count": 64
        }
      ]
    },
    {
      "cell_type": "code",
      "source": [
        "random_tensor2 = torch.rand(3,10,10)\n",
        "random_tensor2"
      ],
      "metadata": {
        "colab": {
          "base_uri": "https://localhost:8080/"
        },
        "id": "jdu8TWBio9x3",
        "outputId": "19d4fbaf-6b74-4282-af30-56971c4d23b8"
      },
      "execution_count": 69,
      "outputs": [
        {
          "output_type": "execute_result",
          "data": {
            "text/plain": [
              "tensor([[[0.4856, 0.5056, 0.7748, 0.0768, 0.2946, 0.6849, 0.4603, 0.2469,\n",
              "          0.2250, 0.9165],\n",
              "         [0.5384, 0.5596, 0.9779, 0.9840, 0.2698, 0.9529, 0.7282, 0.1236,\n",
              "          0.7380, 0.3255],\n",
              "         [0.6445, 0.6691, 0.1797, 0.9456, 0.1277, 0.1922, 0.9627, 0.0336,\n",
              "          0.3285, 0.4472],\n",
              "         [0.4897, 0.1610, 0.8414, 0.1021, 0.6613, 0.1348, 0.0040, 0.5760,\n",
              "          0.8969, 0.7091],\n",
              "         [0.4513, 0.6563, 0.3130, 0.3719, 0.5276, 0.7365, 0.8364, 0.9323,\n",
              "          0.6494, 0.0625],\n",
              "         [0.5529, 0.4050, 0.8719, 0.1784, 0.9329, 0.8827, 0.1432, 0.3477,\n",
              "          0.2728, 0.1857],\n",
              "         [0.1428, 0.9162, 0.6374, 0.9970, 0.0574, 0.2476, 0.0261, 0.7457,\n",
              "          0.4890, 0.4048],\n",
              "         [0.8255, 0.2970, 0.5460, 0.8067, 0.7743, 0.1972, 0.7803, 0.4623,\n",
              "          0.7892, 0.6063],\n",
              "         [0.9244, 0.7370, 0.2137, 0.7450, 0.5980, 0.4879, 0.8585, 0.6543,\n",
              "          0.1575, 0.2325],\n",
              "         [0.1754, 0.8824, 0.4165, 0.1222, 0.5372, 0.7738, 0.7631, 0.6763,\n",
              "          0.4807, 0.1317]],\n",
              "\n",
              "        [[0.2897, 0.5619, 0.0301, 0.6807, 0.6479, 0.8193, 0.4343, 0.9220,\n",
              "          0.8397, 0.6822],\n",
              "         [0.1004, 0.8737, 0.7372, 0.2727, 0.3230, 0.9697, 0.1082, 0.6837,\n",
              "          0.3330, 0.0869],\n",
              "         [0.7227, 0.0220, 0.2152, 0.6826, 0.6110, 0.7683, 0.0297, 0.1109,\n",
              "          0.5306, 0.8722],\n",
              "         [0.9202, 0.8184, 0.0431, 0.8976, 0.9436, 0.4968, 0.7565, 0.4945,\n",
              "          0.7587, 0.0070],\n",
              "         [0.0418, 0.1511, 0.0060, 0.4331, 0.1630, 0.4149, 0.2596, 0.3488,\n",
              "          0.2164, 0.7848],\n",
              "         [0.4520, 0.3850, 0.4179, 0.9050, 0.6826, 0.3637, 0.7043, 0.2029,\n",
              "          0.0886, 0.0396],\n",
              "         [0.7755, 0.5324, 0.1850, 0.3159, 0.3317, 0.5886, 0.4683, 0.3437,\n",
              "          0.1850, 0.7196],\n",
              "         [0.3704, 0.8682, 0.0856, 0.4529, 0.3951, 0.8928, 0.0322, 0.7072,\n",
              "          0.3071, 0.2502],\n",
              "         [0.9483, 0.4362, 0.6648, 0.7692, 0.7336, 0.9633, 0.4855, 0.0820,\n",
              "          0.8955, 0.5252],\n",
              "         [0.2919, 0.2682, 0.7750, 0.5756, 0.6120, 0.2727, 0.0611, 0.2548,\n",
              "          0.0119, 0.3785]],\n",
              "\n",
              "        [[0.2120, 0.8348, 0.1959, 0.4112, 0.4837, 0.4053, 0.2095, 0.3898,\n",
              "          0.7376, 0.0787],\n",
              "         [0.4612, 0.7577, 0.7435, 0.9162, 0.3652, 0.6821, 0.8444, 0.3168,\n",
              "          0.2160, 0.2497],\n",
              "         [0.3930, 0.1288, 0.7594, 0.4237, 0.9150, 0.7692, 0.5585, 0.2528,\n",
              "          0.0322, 0.3650],\n",
              "         [0.8623, 0.4609, 0.2533, 0.9509, 0.1317, 0.4137, 0.7654, 0.3567,\n",
              "          0.8475, 0.7267],\n",
              "         [0.3061, 0.9115, 0.0412, 0.8839, 0.4220, 0.7107, 0.0027, 0.1819,\n",
              "          0.4857, 0.8366],\n",
              "         [0.9981, 0.7699, 0.2951, 0.0117, 0.8324, 0.9958, 0.2996, 0.6439,\n",
              "          0.7092, 0.1835],\n",
              "         [0.4976, 0.7957, 0.8323, 0.7059, 0.4693, 0.6369, 0.6676, 0.4532,\n",
              "          0.9056, 0.1876],\n",
              "         [0.7356, 0.4351, 0.7967, 0.8981, 0.8515, 0.9449, 0.7596, 0.1746,\n",
              "          0.6718, 0.6018],\n",
              "         [0.0159, 0.3489, 0.5446, 0.8470, 0.5888, 0.3209, 0.1067, 0.8803,\n",
              "          0.0027, 0.8483],\n",
              "         [0.9857, 0.2006, 0.4624, 0.6536, 0.4472, 0.4023, 0.4529, 0.7800,\n",
              "          0.7914, 0.0139]]])"
            ]
          },
          "metadata": {},
          "execution_count": 69
        }
      ]
    },
    {
      "cell_type": "code",
      "source": [
        "random_tensor2[1][1][1]"
      ],
      "metadata": {
        "colab": {
          "base_uri": "https://localhost:8080/"
        },
        "id": "O8Td0zVJpYcV",
        "outputId": "d1c1ce9e-cb0b-4d73-91e0-9273d227ade6"
      },
      "execution_count": 71,
      "outputs": [
        {
          "output_type": "execute_result",
          "data": {
            "text/plain": [
              "tensor(0.8737)"
            ]
          },
          "metadata": {},
          "execution_count": 71
        }
      ]
    },
    {
      "cell_type": "code",
      "source": [
        "random_tensor3 = torch.rand(size=(1,10,10))\n",
        "random_tensor3"
      ],
      "metadata": {
        "colab": {
          "base_uri": "https://localhost:8080/"
        },
        "id": "EFsTTNxUpza1",
        "outputId": "a7e4139d-255c-4758-a7de-bbf890cc53a6"
      },
      "execution_count": 73,
      "outputs": [
        {
          "output_type": "execute_result",
          "data": {
            "text/plain": [
              "tensor([[[0.3905, 0.3725, 0.0643, 0.7941, 0.0675, 0.2721, 0.6276, 0.8744,\n",
              "          0.3127, 0.3535],\n",
              "         [0.3617, 0.7647, 0.1191, 0.3407, 0.4647, 0.3369, 0.7716, 0.7233,\n",
              "          0.8903, 0.2054],\n",
              "         [0.6142, 0.9081, 0.7354, 0.1191, 0.0446, 0.2522, 0.2952, 0.0454,\n",
              "          0.0783, 0.5207],\n",
              "         [0.7126, 0.1720, 0.8351, 0.7147, 0.5400, 0.5138, 0.1869, 0.9178,\n",
              "          0.5255, 0.8555],\n",
              "         [0.7280, 0.3503, 0.4186, 0.8398, 0.0652, 0.7417, 0.9102, 0.3340,\n",
              "          0.8466, 0.7549],\n",
              "         [0.1959, 0.5913, 0.0036, 0.0406, 0.8326, 0.5853, 0.8903, 0.2565,\n",
              "          0.7170, 0.4515],\n",
              "         [0.7171, 0.3520, 0.9915, 0.5114, 0.7719, 0.5917, 0.1468, 0.9519,\n",
              "          0.0810, 0.9738],\n",
              "         [0.7578, 0.8453, 0.8362, 0.5423, 0.6211, 0.1943, 0.8268, 0.6521,\n",
              "          0.4014, 0.1966],\n",
              "         [0.0847, 0.6149, 0.6521, 0.5271, 0.9560, 0.1531, 0.5659, 0.9583,\n",
              "          0.3377, 0.2682],\n",
              "         [0.7285, 0.9505, 0.8665, 0.1272, 0.9984, 0.0153, 0.5221, 0.3064,\n",
              "          0.1081, 0.1320]]])"
            ]
          },
          "metadata": {},
          "execution_count": 73
        }
      ]
    },
    {
      "cell_type": "markdown",
      "source": [
        "### Zeros & ones Tensor"
      ],
      "metadata": {
        "id": "Cg0gkCMaqayU"
      }
    },
    {
      "cell_type": "code",
      "source": [
        "### Zeros & ones Tensor\n",
        "zeros_tensor =torch.zeros(size=(3,4))\n",
        "zeros_tensor"
      ],
      "metadata": {
        "colab": {
          "base_uri": "https://localhost:8080/"
        },
        "id": "-7Y1Nrf-qDdT",
        "outputId": "055ad928-bf45-4a19-f103-1eb98bb418fb"
      },
      "execution_count": 76,
      "outputs": [
        {
          "output_type": "execute_result",
          "data": {
            "text/plain": [
              "tensor([[0., 0., 0., 0.],\n",
              "        [0., 0., 0., 0.],\n",
              "        [0., 0., 0., 0.]])"
            ]
          },
          "metadata": {},
          "execution_count": 76
        }
      ]
    },
    {
      "cell_type": "code",
      "source": [
        "#Ones Tensor\n",
        "ones_tensor = torch.ones(size=(3,4))\n",
        "ones_tensor"
      ],
      "metadata": {
        "colab": {
          "base_uri": "https://localhost:8080/"
        },
        "id": "6nyZ0J_WqRb2",
        "outputId": "dc7605d7-14e5-46d7-b85a-fa4f1a92690d"
      },
      "execution_count": 77,
      "outputs": [
        {
          "output_type": "execute_result",
          "data": {
            "text/plain": [
              "tensor([[1., 1., 1., 1.],\n",
              "        [1., 1., 1., 1.],\n",
              "        [1., 1., 1., 1.]])"
            ]
          },
          "metadata": {},
          "execution_count": 77
        }
      ]
    },
    {
      "cell_type": "code",
      "source": [
        "zeros_tensor * random_tensor"
      ],
      "metadata": {
        "colab": {
          "base_uri": "https://localhost:8080/"
        },
        "id": "EAJtnCACvLjn",
        "outputId": "ab23e555-749c-4e24-f0d6-6425743d402e"
      },
      "execution_count": 79,
      "outputs": [
        {
          "output_type": "execute_result",
          "data": {
            "text/plain": [
              "tensor([[0., 0., 0., 0.],\n",
              "        [0., 0., 0., 0.],\n",
              "        [0., 0., 0., 0.]])"
            ]
          },
          "metadata": {},
          "execution_count": 79
        }
      ]
    },
    {
      "cell_type": "code",
      "source": [
        "ones_tensor * random_tensor"
      ],
      "metadata": {
        "colab": {
          "base_uri": "https://localhost:8080/"
        },
        "id": "XAjmN-Xuvbda",
        "outputId": "477505d6-1e5a-4449-e67e-f8cbb8d34b44"
      },
      "execution_count": 80,
      "outputs": [
        {
          "output_type": "execute_result",
          "data": {
            "text/plain": [
              "tensor([[0.1221, 0.5380, 0.9834, 0.4910],\n",
              "        [0.8544, 0.6460, 0.9613, 0.1550],\n",
              "        [0.6829, 0.2935, 0.8169, 0.4988]])"
            ]
          },
          "metadata": {},
          "execution_count": 80
        }
      ]
    },
    {
      "cell_type": "code",
      "source": [
        "random_tensor.dtype"
      ],
      "metadata": {
        "colab": {
          "base_uri": "https://localhost:8080/"
        },
        "id": "BaPEukdpvgyC",
        "outputId": "fa193016-dd28-49e0-bd89-98449d7e324c"
      },
      "execution_count": 82,
      "outputs": [
        {
          "output_type": "execute_result",
          "data": {
            "text/plain": [
              "torch.float32"
            ]
          },
          "metadata": {},
          "execution_count": 82
        }
      ]
    },
    {
      "cell_type": "code",
      "source": [
        "# Always tensor dtype is float32 by default unless you cahnge it.\n",
        "ones_tensor.dtype"
      ],
      "metadata": {
        "colab": {
          "base_uri": "https://localhost:8080/"
        },
        "id": "MCVgzcAiviM4",
        "outputId": "e8642922-efbd-4bbd-93c8-07909b310bbd"
      },
      "execution_count": 83,
      "outputs": [
        {
          "output_type": "execute_result",
          "data": {
            "text/plain": [
              "torch.float32"
            ]
          },
          "metadata": {},
          "execution_count": 83
        }
      ]
    },
    {
      "cell_type": "code",
      "source": [
        "#use tensor.arange()\n",
        "one_to_ten1= torch.arange(start=0,end=10)\n",
        "one_to_ten1"
      ],
      "metadata": {
        "colab": {
          "base_uri": "https://localhost:8080/"
        },
        "id": "H2vonCNGxF7u",
        "outputId": "4151155e-e351-4b16-e190-5fba25899628"
      },
      "execution_count": 90,
      "outputs": [
        {
          "output_type": "execute_result",
          "data": {
            "text/plain": [
              "tensor([0, 1, 2, 3, 4, 5, 6, 7, 8, 9])"
            ]
          },
          "metadata": {},
          "execution_count": 90
        }
      ]
    },
    {
      "cell_type": "code",
      "source": [
        "#use tensor.arange()\n",
        "one_to_ten = torch.arange(start=0,end=1000,step=77)\n",
        "one_to_ten"
      ],
      "metadata": {
        "colab": {
          "base_uri": "https://localhost:8080/"
        },
        "id": "z69ucBj8vn_o",
        "outputId": "63ae104a-bde5-49a8-8d68-6eeb5cb40af3"
      },
      "execution_count": 88,
      "outputs": [
        {
          "output_type": "execute_result",
          "data": {
            "text/plain": [
              "tensor([  0,  77, 154, 231, 308, 385, 462, 539, 616, 693, 770, 847, 924])"
            ]
          },
          "metadata": {},
          "execution_count": 88
        }
      ]
    },
    {
      "cell_type": "code",
      "source": [
        "#creating tensors like\n",
        "ten_zeroes = torch.zeros_like(input=one_to_ten)\n",
        "ten_zeroes"
      ],
      "metadata": {
        "colab": {
          "base_uri": "https://localhost:8080/"
        },
        "id": "645BQkpAwPM_",
        "outputId": "8ffd750a-c841-4a34-8a36-ff1404e46ca6"
      },
      "execution_count": 89,
      "outputs": [
        {
          "output_type": "execute_result",
          "data": {
            "text/plain": [
              "tensor([0, 0, 0, 0, 0, 0, 0, 0, 0, 0, 0, 0, 0])"
            ]
          },
          "metadata": {},
          "execution_count": 89
        }
      ]
    },
    {
      "cell_type": "code",
      "source": [
        "example_tensor = torch.arange(start=1,end=12,step=2)\n",
        "example_tensor"
      ],
      "metadata": {
        "colab": {
          "base_uri": "https://localhost:8080/"
        },
        "id": "yOZkAuj_w-F4",
        "outputId": "aa254ff8-e8c0-47fd-eb49-791b9617a770"
      },
      "execution_count": 91,
      "outputs": [
        {
          "output_type": "execute_result",
          "data": {
            "text/plain": [
              "tensor([ 1,  3,  5,  7,  9, 11])"
            ]
          },
          "metadata": {},
          "execution_count": 91
        }
      ]
    },
    {
      "cell_type": "code",
      "source": [
        "tensor_like = torch.ones_like(input=example_tensor)\n",
        "tensor_like # same output size as above"
      ],
      "metadata": {
        "colab": {
          "base_uri": "https://localhost:8080/"
        },
        "id": "npXo9c3x-fue",
        "outputId": "591d60d8-15f6-4095-a88b-da522eff219d"
      },
      "execution_count": 92,
      "outputs": [
        {
          "output_type": "execute_result",
          "data": {
            "text/plain": [
              "tensor([1, 1, 1, 1, 1, 1])"
            ]
          },
          "metadata": {},
          "execution_count": 92
        }
      ]
    },
    {
      "cell_type": "markdown",
      "source": [
        "### Tensor Data-Type"
      ],
      "metadata": {
        "id": "2J6miYtO_EAa"
      }
    },
    {
      "cell_type": "code",
      "source": [
        "float_32_tensor = torch.tensor([3.5,4.0,5.0],\n",
        "                               dtype=None,\n",
        "                               device=\"cpu\",\n",
        "                               requires_grad=True)\n",
        "float_32_tensor"
      ],
      "metadata": {
        "colab": {
          "base_uri": "https://localhost:8080/"
        },
        "id": "xQge1Uqr-3Z0",
        "outputId": "37a56ff6-8449-4f81-fd88-ce79802f8041"
      },
      "execution_count": 105,
      "outputs": [
        {
          "output_type": "execute_result",
          "data": {
            "text/plain": [
              "tensor([3.5000, 4.0000, 5.0000], requires_grad=True)"
            ]
          },
          "metadata": {},
          "execution_count": 105
        }
      ]
    },
    {
      "cell_type": "code",
      "source": [
        "float_32_tensor.dtype"
      ],
      "metadata": {
        "colab": {
          "base_uri": "https://localhost:8080/"
        },
        "id": "4ulLzsfl_VPX",
        "outputId": "3495ade9-a123-408b-be35-1635148d0ec0"
      },
      "execution_count": 106,
      "outputs": [
        {
          "output_type": "execute_result",
          "data": {
            "text/plain": [
              "torch.float32"
            ]
          },
          "metadata": {},
          "execution_count": 106
        }
      ]
    },
    {
      "cell_type": "code",
      "source": [
        "float_16_tensor = float_32_tensor.type(torch.float16)\n",
        "float_16_tensor"
      ],
      "metadata": {
        "colab": {
          "base_uri": "https://localhost:8080/"
        },
        "id": "lpr_1OpA_Znx",
        "outputId": "a18d0239-f38c-42c3-dff6-4ddae6f09269"
      },
      "execution_count": 107,
      "outputs": [
        {
          "output_type": "execute_result",
          "data": {
            "text/plain": [
              "tensor([3.5000, 4.0000, 5.0000], dtype=torch.float16,\n",
              "       grad_fn=<ToCopyBackward0>)"
            ]
          },
          "metadata": {},
          "execution_count": 107
        }
      ]
    },
    {
      "cell_type": "code",
      "source": [
        "float_16_tensor * float_32_tensor"
      ],
      "metadata": {
        "colab": {
          "base_uri": "https://localhost:8080/"
        },
        "id": "Om3RmEVlCpCB",
        "outputId": "144ad452-afd1-47be-94b2-9c760b89ee24"
      },
      "execution_count": 108,
      "outputs": [
        {
          "output_type": "execute_result",
          "data": {
            "text/plain": [
              "tensor([12.2500, 16.0000, 25.0000], grad_fn=<MulBackward0>)"
            ]
          },
          "metadata": {},
          "execution_count": 108
        }
      ]
    },
    {
      "cell_type": "code",
      "source": [
        "int_32_tensor = float_16_tensor.type(torch.LongTensor)\n",
        "int_32_tensor"
      ],
      "metadata": {
        "colab": {
          "base_uri": "https://localhost:8080/"
        },
        "id": "bPedQaIlC4OQ",
        "outputId": "5a6ad6ad-20f3-46e2-a633-a60fd27f2d68"
      },
      "execution_count": 111,
      "outputs": [
        {
          "output_type": "execute_result",
          "data": {
            "text/plain": [
              "tensor([3, 4, 5])"
            ]
          },
          "metadata": {},
          "execution_count": 111
        }
      ]
    },
    {
      "cell_type": "code",
      "source": [
        "int_32_tensor * float_32_tensor"
      ],
      "metadata": {
        "colab": {
          "base_uri": "https://localhost:8080/"
        },
        "id": "nYxysDHQDOwi",
        "outputId": "781968f6-45e6-47c9-c0bf-02996e0127e8"
      },
      "execution_count": 112,
      "outputs": [
        {
          "output_type": "execute_result",
          "data": {
            "text/plain": [
              "tensor([10.5000, 16.0000, 25.0000], grad_fn=<MulBackward0>)"
            ]
          },
          "metadata": {},
          "execution_count": 112
        }
      ]
    },
    {
      "cell_type": "markdown",
      "source": [
        "### Getting information from tensors\n",
        "\n",
        "Once you've created tensors (or someone else or a PyTorch module has created them for you), you might want to get some information from them.\n",
        "\n",
        "We've seen these before but three of the most common attributes you'll want to find out about tensors are:\n",
        "* `shape` - what shape is the tensor? (some operations require specific shape rules)\n",
        "* `dtype` - what datatype are the elements within the tensor stored in?\n",
        "* `device` - what device is the tensor stored on? (usually GPU or CPU)\n",
        "\n",
        "Let's create a random tensor and find out details about it."
      ],
      "metadata": {
        "id": "KbvVVILdD0yW"
      }
    },
    {
      "cell_type": "code",
      "source": [
        "#Create a tensor\n",
        "\n",
        "some_tensor = torch.rand(3,4)\n",
        "some_tensor"
      ],
      "metadata": {
        "colab": {
          "base_uri": "https://localhost:8080/"
        },
        "id": "vmR-0i0VDR5l",
        "outputId": "f46ecae9-cfc6-4722-9f05-628cfd131549"
      },
      "execution_count": 113,
      "outputs": [
        {
          "output_type": "execute_result",
          "data": {
            "text/plain": [
              "tensor([[0.0302, 0.6515, 0.0363, 0.4319],\n",
              "        [0.5871, 0.3345, 0.6670, 0.4019],\n",
              "        [0.6975, 0.3691, 0.5648, 0.1793]])"
            ]
          },
          "metadata": {},
          "execution_count": 113
        }
      ]
    },
    {
      "cell_type": "code",
      "source": [
        "#Find the details\n",
        "print(some_tensor)\n",
        "print(f\"\\nData_type of tensor is: {some_tensor.dtype}\")\n",
        "print(f\"Shape of tensor: {some_tensor.shape}\")\n",
        "print(f\"Device of tensor: {some_tensor.device}\")"
      ],
      "metadata": {
        "colab": {
          "base_uri": "https://localhost:8080/"
        },
        "id": "r9TyZ9x2ESIF",
        "outputId": "9841c336-d1c6-490c-de83-b33ea098f3c0"
      },
      "execution_count": 118,
      "outputs": [
        {
          "output_type": "stream",
          "name": "stdout",
          "text": [
            "tensor([[0.0302, 0.6515, 0.0363, 0.4319],\n",
            "        [0.5871, 0.3345, 0.6670, 0.4019],\n",
            "        [0.6975, 0.3691, 0.5648, 0.1793]])\n",
            "\n",
            "Data_type of tensor is: torch.float32\n",
            "Shape of tensor: torch.Size([3, 4])\n",
            "Device of tensor: cpu\n"
          ]
        }
      ]
    },
    {
      "cell_type": "code",
      "source": [
        "#Practice\n",
        "random_tensor = torch.rand(4,4)\n",
        "print(random_tensor)\n",
        "print(random_tensor.dtype)\n",
        "random_tensor = random_tensor.type(torch.float16)\n",
        "print(random_tensor)\n",
        "print(random_tensor.dtype)"
      ],
      "metadata": {
        "colab": {
          "base_uri": "https://localhost:8080/"
        },
        "id": "o86-yL9jEkqZ",
        "outputId": "9667364b-c680-4f21-de0e-e9d8de034294"
      },
      "execution_count": 140,
      "outputs": [
        {
          "output_type": "stream",
          "name": "stdout",
          "text": [
            "tensor([[0.5842, 0.1656, 0.4543, 0.6700],\n",
            "        [0.6195, 0.7462, 0.5167, 0.1032],\n",
            "        [0.0740, 0.5424, 0.9009, 0.0063],\n",
            "        [0.2115, 0.6038, 0.1469, 0.0795]])\n",
            "torch.float32\n",
            "tensor([[0.5840, 0.1655, 0.4543, 0.6699],\n",
            "        [0.6196, 0.7461, 0.5166, 0.1032],\n",
            "        [0.0740, 0.5425, 0.9009, 0.0063],\n",
            "        [0.2114, 0.6040, 0.1469, 0.0795]], dtype=torch.float16)\n",
            "torch.float16\n"
          ]
        }
      ]
    },
    {
      "cell_type": "code",
      "source": [
        "print(random_tensor.shape)\n",
        "print(random_tensor.device)\n",
        "print(random_tensor.dtype)"
      ],
      "metadata": {
        "colab": {
          "base_uri": "https://localhost:8080/"
        },
        "id": "GJ96DS_cFNQC",
        "outputId": "c4f6c599-b7da-4ec5-f169-68de92a0634a"
      },
      "execution_count": 141,
      "outputs": [
        {
          "output_type": "stream",
          "name": "stdout",
          "text": [
            "torch.Size([4, 4])\n",
            "cpu\n",
            "torch.float16\n"
          ]
        }
      ]
    },
    {
      "cell_type": "code",
      "source": [],
      "metadata": {
        "id": "XmQFZz7uFJ0W"
      },
      "execution_count": null,
      "outputs": []
    }
  ]
}

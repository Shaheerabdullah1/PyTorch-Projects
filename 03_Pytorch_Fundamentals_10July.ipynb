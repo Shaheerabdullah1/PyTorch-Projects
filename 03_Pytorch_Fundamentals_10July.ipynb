{
  "nbformat": 4,
  "nbformat_minor": 0,
  "metadata": {
    "colab": {
      "provenance": [],
      "gpuType": "T4"
    },
    "kernelspec": {
      "name": "python3",
      "display_name": "Python 3"
    },
    "language_info": {
      "name": "python"
    },
    "accelerator": "GPU"
  },
  "cells": [
    {
      "cell_type": "markdown",
      "source": [
        "### Tensors to Numpy and Numpy to Tensors"
      ],
      "metadata": {
        "id": "M37zFWilwg-x"
      }
    },
    {
      "cell_type": "code",
      "execution_count": 2,
      "metadata": {
        "colab": {
          "base_uri": "https://localhost:8080/"
        },
        "id": "cSB59dxJq3-C",
        "outputId": "8bcfbe81-5710-42c6-cfb3-5fbe8d8ccb0a"
      },
      "outputs": [
        {
          "output_type": "execute_result",
          "data": {
            "text/plain": [
              "tensor([[0.9698, 0.6916, 0.1046],\n",
              "        [0.7302, 0.8890, 0.9324]])"
            ]
          },
          "metadata": {},
          "execution_count": 2
        }
      ],
      "source": [
        "import torch\n",
        "import numpy as np\n",
        "#Tensor-to-numpy\n",
        "example_Tensor = torch.rand(2,3)\n",
        "example_Tensor"
      ]
    },
    {
      "cell_type": "code",
      "source": [
        "example_numpy = example_Tensor.numpy()\n",
        "print(example_numpy)"
      ],
      "metadata": {
        "colab": {
          "base_uri": "https://localhost:8080/"
        },
        "id": "fdj9_hCot_Os",
        "outputId": "934e595c-ab46-4d18-963e-c5226e64c003"
      },
      "execution_count": 3,
      "outputs": [
        {
          "output_type": "stream",
          "name": "stdout",
          "text": [
            "[[0.9698452  0.69164705 0.10455215]\n",
            " [0.7302477  0.8889857  0.93241656]]\n"
          ]
        }
      ]
    },
    {
      "cell_type": "code",
      "source": [
        "example_Tensor.dtype , example_numpy.dtype"
      ],
      "metadata": {
        "colab": {
          "base_uri": "https://localhost:8080/"
        },
        "id": "THWtU1h7tMtf",
        "outputId": "fbde0367-e1ff-431b-866c-fd283338aac1"
      },
      "execution_count": 4,
      "outputs": [
        {
          "output_type": "execute_result",
          "data": {
            "text/plain": [
              "(torch.float32, dtype('float32'))"
            ]
          },
          "metadata": {},
          "execution_count": 4
        }
      ]
    },
    {
      "cell_type": "code",
      "source": [
        "array1 = np.arange(1.0 , 8.0)\n",
        "array1 = array1 + 1\n",
        "print(array1)"
      ],
      "metadata": {
        "colab": {
          "base_uri": "https://localhost:8080/"
        },
        "id": "P-4xMsDsuU5t",
        "outputId": "8998906a-5319-40cc-f4af-68679d4706db"
      },
      "execution_count": 5,
      "outputs": [
        {
          "output_type": "stream",
          "name": "stdout",
          "text": [
            "[2. 3. 4. 5. 6. 7. 8.]\n"
          ]
        }
      ]
    },
    {
      "cell_type": "code",
      "source": [
        "tensor = torch.from_numpy(array1)\n",
        "print(tensor)"
      ],
      "metadata": {
        "colab": {
          "base_uri": "https://localhost:8080/"
        },
        "id": "kWuSLneavu2f",
        "outputId": "db6da55b-06dc-4a2e-e90e-7885907d26bb"
      },
      "execution_count": 6,
      "outputs": [
        {
          "output_type": "stream",
          "name": "stdout",
          "text": [
            "tensor([2., 3., 4., 5., 6., 7., 8.], dtype=torch.float64)\n"
          ]
        }
      ]
    },
    {
      "cell_type": "code",
      "source": [
        "array1.dtype ,  tensor.dtype"
      ],
      "metadata": {
        "colab": {
          "base_uri": "https://localhost:8080/"
        },
        "id": "PmntZQcWvy1W",
        "outputId": "f2f3aa34-4423-46be-8190-89a89a4d55c5"
      },
      "execution_count": 7,
      "outputs": [
        {
          "output_type": "execute_result",
          "data": {
            "text/plain": [
              "(dtype('float64'), torch.float64)"
            ]
          },
          "metadata": {},
          "execution_count": 7
        }
      ]
    },
    {
      "cell_type": "code",
      "source": [
        "random_tensor=torch.rand(2,2)\n",
        "random_tensor"
      ],
      "metadata": {
        "colab": {
          "base_uri": "https://localhost:8080/"
        },
        "id": "hYbS6xynaslT",
        "outputId": "605ebdf7-ef14-4161-8841-dd5a67e797f2"
      },
      "execution_count": 8,
      "outputs": [
        {
          "output_type": "execute_result",
          "data": {
            "text/plain": [
              "tensor([[0.4865, 0.7142],\n",
              "        [0.4830, 0.7769]])"
            ]
          },
          "metadata": {},
          "execution_count": 8
        }
      ]
    },
    {
      "cell_type": "code",
      "source": [
        "ones_Tensor = torch.ones_like(random_tensor)\n",
        "print(ones_Tensor)"
      ],
      "metadata": {
        "colab": {
          "base_uri": "https://localhost:8080/"
        },
        "id": "BrOWmDhcbqS7",
        "outputId": "7b9ecf9e-4092-40ff-b2c6-0c9b5b3174f1"
      },
      "execution_count": 9,
      "outputs": [
        {
          "output_type": "stream",
          "name": "stdout",
          "text": [
            "tensor([[1., 1.],\n",
            "        [1., 1.]])\n"
          ]
        }
      ]
    },
    {
      "cell_type": "markdown",
      "source": [
        "### Reproducibility (Trying to take random out of random)  Random seed\n"
      ],
      "metadata": {
        "id": "CresfNDPxSFy"
      }
    },
    {
      "cell_type": "code",
      "source": [
        "#Before Reproducibility\n",
        "import torch\n",
        "random_tensor_A = torch.rand(3,4)\n",
        "random_tensor_B = torch.rand(3,4)\n",
        "print(random_tensor_A)\n",
        "print(random_tensor_B)\n",
        "print(random_tensor_A == random_tensor_B )"
      ],
      "metadata": {
        "colab": {
          "base_uri": "https://localhost:8080/"
        },
        "id": "Yrrciql5v4Z_",
        "outputId": "e7d765d9-1025-412f-c1ee-507d5739d448"
      },
      "execution_count": 10,
      "outputs": [
        {
          "output_type": "stream",
          "name": "stdout",
          "text": [
            "tensor([[0.6289, 0.2381, 0.5601, 0.6766],\n",
            "        [0.4573, 0.4122, 0.0918, 0.8639],\n",
            "        [0.2529, 0.2682, 0.9420, 0.6166]])\n",
            "tensor([[0.8243, 0.9972, 0.8329, 0.5172],\n",
            "        [0.8195, 0.7680, 0.1376, 0.4797],\n",
            "        [0.6797, 0.3431, 0.9257, 0.2164]])\n",
            "tensor([[False, False, False, False],\n",
            "        [False, False, False, False],\n",
            "        [False, False, False, False]])\n"
          ]
        }
      ]
    },
    {
      "cell_type": "markdown",
      "source": [
        "#### manual_seed works with only one block of code so if you want it to execute again and again you have to use it again and again"
      ],
      "metadata": {
        "id": "DzGRdQH_c7fR"
      }
    },
    {
      "cell_type": "code",
      "source": [
        "#After Reproducibility\n",
        "#Lets make some random but reproducible tensors\n",
        "import torch\n",
        "#set the random seed\n",
        "RANDOM_SEED = 42\n",
        "# set the torch manual\n",
        "torch.manual_seed(RANDOM_SEED)\n",
        "random_tensor_C = torch.rand(3,4)\n",
        "\n",
        "#set the random seed\n",
        "# set the torch manual\n",
        "torch.manual_seed(RANDOM_SEED)\n",
        "\n",
        "random_tensor_D = torch.rand(3,4)\n",
        "print(random_tensor_C)\n",
        "print(random_tensor_D)\n",
        "print(random_tensor_C == random_tensor_D )"
      ],
      "metadata": {
        "colab": {
          "base_uri": "https://localhost:8080/"
        },
        "id": "s-lDEwyscHGV",
        "outputId": "d8712c84-2722-46f4-8f65-27bacfc1eaff"
      },
      "execution_count": 11,
      "outputs": [
        {
          "output_type": "stream",
          "name": "stdout",
          "text": [
            "tensor([[0.8823, 0.9150, 0.3829, 0.9593],\n",
            "        [0.3904, 0.6009, 0.2566, 0.7936],\n",
            "        [0.9408, 0.1332, 0.9346, 0.5936]])\n",
            "tensor([[0.8823, 0.9150, 0.3829, 0.9593],\n",
            "        [0.3904, 0.6009, 0.2566, 0.7936],\n",
            "        [0.9408, 0.1332, 0.9346, 0.5936]])\n",
            "tensor([[True, True, True, True],\n",
            "        [True, True, True, True],\n",
            "        [True, True, True, True]])\n"
          ]
        }
      ]
    },
    {
      "cell_type": "markdown",
      "source": [
        "### Running tensors and PyTorch objects on GPUs"
      ],
      "metadata": {
        "id": "8fMfxDvee18X"
      }
    },
    {
      "cell_type": "code",
      "source": [
        "!nvidia-smi"
      ],
      "metadata": {
        "colab": {
          "base_uri": "https://localhost:8080/"
        },
        "id": "Oipj8F54cxai",
        "outputId": "5014fe52-babe-4bc9-e08a-065155eab8df"
      },
      "execution_count": 12,
      "outputs": [
        {
          "output_type": "stream",
          "name": "stdout",
          "text": [
            "Wed Jul 10 18:08:13 2024       \n",
            "+---------------------------------------------------------------------------------------+\n",
            "| NVIDIA-SMI 535.104.05             Driver Version: 535.104.05   CUDA Version: 12.2     |\n",
            "|-----------------------------------------+----------------------+----------------------+\n",
            "| GPU  Name                 Persistence-M | Bus-Id        Disp.A | Volatile Uncorr. ECC |\n",
            "| Fan  Temp   Perf          Pwr:Usage/Cap |         Memory-Usage | GPU-Util  Compute M. |\n",
            "|                                         |                      |               MIG M. |\n",
            "|=========================================+======================+======================|\n",
            "|   0  Tesla T4                       Off | 00000000:00:04.0 Off |                    0 |\n",
            "| N/A   37C    P8              11W /  70W |      0MiB / 15360MiB |      0%      Default |\n",
            "|                                         |                      |                  N/A |\n",
            "+-----------------------------------------+----------------------+----------------------+\n",
            "                                                                                         \n",
            "+---------------------------------------------------------------------------------------+\n",
            "| Processes:                                                                            |\n",
            "|  GPU   GI   CI        PID   Type   Process name                            GPU Memory |\n",
            "|        ID   ID                                                             Usage      |\n",
            "|=======================================================================================|\n",
            "|  No running processes found                                                           |\n",
            "+---------------------------------------------------------------------------------------+\n"
          ]
        }
      ]
    },
    {
      "cell_type": "code",
      "source": [
        "## 2. check for GPU access\n",
        "#if GPU is available it will return True.\n",
        "torch.cuda.is_available()"
      ],
      "metadata": {
        "colab": {
          "base_uri": "https://localhost:8080/"
        },
        "id": "UkNyYFxfgtAv",
        "outputId": "d4f933b5-37ad-4711-abe4-f0893cdd3d4c"
      },
      "execution_count": 13,
      "outputs": [
        {
          "output_type": "execute_result",
          "data": {
            "text/plain": [
              "True"
            ]
          },
          "metadata": {},
          "execution_count": 13
        }
      ]
    },
    {
      "cell_type": "code",
      "source": [
        "# Setup device agnostic code\n",
        "device = ''\n",
        "if torch.cuda.is_available():\n",
        "  device = 'gpu'\n",
        "else:\n",
        "  device = 'cpu'\n"
      ],
      "metadata": {
        "id": "DxrkmClihbEu"
      },
      "execution_count": 19,
      "outputs": []
    },
    {
      "cell_type": "code",
      "source": [
        "device"
      ],
      "metadata": {
        "colab": {
          "base_uri": "https://localhost:8080/",
          "height": 35
        },
        "id": "6_gdbo161ewf",
        "outputId": "61b5e1f4-ddf9-4c75-ce4a-34a906d44238"
      },
      "execution_count": 20,
      "outputs": [
        {
          "output_type": "execute_result",
          "data": {
            "text/plain": [
              "'gpu'"
            ],
            "application/vnd.google.colaboratory.intrinsic+json": {
              "type": "string"
            }
          },
          "metadata": {},
          "execution_count": 20
        }
      ]
    },
    {
      "cell_type": "code",
      "source": [
        "# Count number of devices\n",
        "torch.cuda.device_count()"
      ],
      "metadata": {
        "colab": {
          "base_uri": "https://localhost:8080/"
        },
        "id": "FQ27tS2j1jMt",
        "outputId": "69667a32-77cd-47e8-bb4a-7157dad71343"
      },
      "execution_count": 21,
      "outputs": [
        {
          "output_type": "execute_result",
          "data": {
            "text/plain": [
              "1"
            ]
          },
          "metadata": {},
          "execution_count": 21
        }
      ]
    },
    {
      "cell_type": "code",
      "source": [],
      "metadata": {
        "id": "8dsuw6E02aQB"
      },
      "execution_count": null,
      "outputs": []
    }
  ]
}
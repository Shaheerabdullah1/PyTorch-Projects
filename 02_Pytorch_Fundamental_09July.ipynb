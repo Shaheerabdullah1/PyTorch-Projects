{
  "nbformat": 4,
  "nbformat_minor": 0,
  "metadata": {
    "colab": {
      "provenance": []
    },
    "kernelspec": {
      "name": "python3",
      "display_name": "Python 3"
    },
    "language_info": {
      "name": "python"
    }
  },
  "cells": [
    {
      "cell_type": "markdown",
      "source": [
        "###  02_PyTorch_Fundamentals_09July"
      ],
      "metadata": {
        "id": "Cv_jUzd58Y_N"
      }
    },
    {
      "cell_type": "markdown",
      "source": [
        "### Tensor Aggregations"
      ],
      "metadata": {
        "id": "WK5tygf8mzTE"
      }
    },
    {
      "cell_type": "code",
      "execution_count": 2,
      "metadata": {
        "colab": {
          "base_uri": "https://localhost:8080/"
        },
        "id": "3ELBX0rP8WDh",
        "outputId": "a086359d-ce8f-4e1a-977c-3bc3549f663f"
      },
      "outputs": [
        {
          "output_type": "execute_result",
          "data": {
            "text/plain": [
              "tensor([ 0, 10, 20, 30, 40, 50, 60, 70, 80, 90])"
            ]
          },
          "metadata": {},
          "execution_count": 2
        }
      ],
      "source": [
        "## Finding the mean,max,sum etc (Tensor Aggregations)\n",
        "import torch\n",
        "x = torch.arange(start=0,end=100,step=10)\n",
        "x"
      ]
    },
    {
      "cell_type": "code",
      "source": [
        "#Find the min.\n",
        "torch.min(x) , x.min()"
      ],
      "metadata": {
        "colab": {
          "base_uri": "https://localhost:8080/"
        },
        "id": "GZnnOKcc8fp2",
        "outputId": "f37a480e-62c6-40ea-cb79-5d4e84cac958"
      },
      "execution_count": 3,
      "outputs": [
        {
          "output_type": "execute_result",
          "data": {
            "text/plain": [
              "(tensor(0), tensor(0))"
            ]
          },
          "metadata": {},
          "execution_count": 3
        }
      ]
    },
    {
      "cell_type": "code",
      "source": [
        "#Find the max.\n",
        "torch.max(x) , x.max()"
      ],
      "metadata": {
        "colab": {
          "base_uri": "https://localhost:8080/"
        },
        "id": "LQfFBhPoAQTp",
        "outputId": "b56b805a-60cb-47f5-d228-d29fa56ae0b2"
      },
      "execution_count": 4,
      "outputs": [
        {
          "output_type": "execute_result",
          "data": {
            "text/plain": [
              "(tensor(90), tensor(90))"
            ]
          },
          "metadata": {},
          "execution_count": 4
        }
      ]
    },
    {
      "cell_type": "code",
      "source": [
        "#Find the mean.\n",
        "#for mean its necessary that you should have dtype of float.\n",
        "x = x.type(torch.float32)\n",
        "print(torch.mean(x))\n",
        "print(torch.mean(x.type(torch.float32)))"
      ],
      "metadata": {
        "colab": {
          "base_uri": "https://localhost:8080/"
        },
        "id": "GeeiAgUOAXuN",
        "outputId": "ca70d01c-97f2-45b7-ef51-1ecb6ea8a66e"
      },
      "execution_count": 5,
      "outputs": [
        {
          "output_type": "stream",
          "name": "stdout",
          "text": [
            "tensor(45.)\n",
            "tensor(45.)\n"
          ]
        }
      ]
    },
    {
      "cell_type": "code",
      "source": [
        "torch.sum(x)"
      ],
      "metadata": {
        "colab": {
          "base_uri": "https://localhost:8080/"
        },
        "id": "Rr1R64DzApxn",
        "outputId": "490bf071-615c-44c0-99d1-7f09745d4235"
      },
      "execution_count": 6,
      "outputs": [
        {
          "output_type": "execute_result",
          "data": {
            "text/plain": [
              "tensor(450.)"
            ]
          },
          "metadata": {},
          "execution_count": 6
        }
      ]
    },
    {
      "cell_type": "code",
      "source": [
        "x.sum()"
      ],
      "metadata": {
        "colab": {
          "base_uri": "https://localhost:8080/"
        },
        "id": "Oq91oOyaDI7I",
        "outputId": "57f3dcbe-5c91-47f6-a393-46dd2bfb57da"
      },
      "execution_count": 7,
      "outputs": [
        {
          "output_type": "execute_result",
          "data": {
            "text/plain": [
              "tensor(450.)"
            ]
          },
          "metadata": {},
          "execution_count": 7
        }
      ]
    },
    {
      "cell_type": "code",
      "source": [
        "#Positional min and max.\n",
        "#x.argmin() will return the index of minimum value.\n",
        "x.argmin()"
      ],
      "metadata": {
        "colab": {
          "base_uri": "https://localhost:8080/"
        },
        "id": "V-Nk9v1ODKPn",
        "outputId": "ee4998f6-79b9-41eb-ce15-4ba36a0d5e68"
      },
      "execution_count": 8,
      "outputs": [
        {
          "output_type": "execute_result",
          "data": {
            "text/plain": [
              "tensor(0)"
            ]
          },
          "metadata": {},
          "execution_count": 8
        }
      ]
    },
    {
      "cell_type": "code",
      "source": [
        "x[0]"
      ],
      "metadata": {
        "colab": {
          "base_uri": "https://localhost:8080/"
        },
        "id": "PSNl6i2oDqc_",
        "outputId": "6e0affbb-b541-4dd1-9ae0-d9fcc4655aff"
      },
      "execution_count": 9,
      "outputs": [
        {
          "output_type": "execute_result",
          "data": {
            "text/plain": [
              "tensor(0.)"
            ]
          },
          "metadata": {},
          "execution_count": 9
        }
      ]
    },
    {
      "cell_type": "code",
      "source": [
        "#x.argmin() will return the index of maxmimum value.\n",
        "x.argmax()"
      ],
      "metadata": {
        "colab": {
          "base_uri": "https://localhost:8080/"
        },
        "id": "TByPLLjQDrlQ",
        "outputId": "a85daee6-2040-4692-c899-2ee716c7b8d6"
      },
      "execution_count": 10,
      "outputs": [
        {
          "output_type": "execute_result",
          "data": {
            "text/plain": [
              "tensor(9)"
            ]
          },
          "metadata": {},
          "execution_count": 10
        }
      ]
    },
    {
      "cell_type": "code",
      "source": [
        "x[9]"
      ],
      "metadata": {
        "colab": {
          "base_uri": "https://localhost:8080/"
        },
        "id": "VnqqEAl0Duio",
        "outputId": "20bae282-e4f6-4917-85ec-618a2bb4a4ca"
      },
      "execution_count": 11,
      "outputs": [
        {
          "output_type": "execute_result",
          "data": {
            "text/plain": [
              "tensor(90.)"
            ]
          },
          "metadata": {},
          "execution_count": 11
        }
      ]
    },
    {
      "cell_type": "code",
      "source": [
        "tensor_example=torch.rand(2,2)\n",
        "tensor_example"
      ],
      "metadata": {
        "id": "ceIIm89IDwet",
        "colab": {
          "base_uri": "https://localhost:8080/"
        },
        "outputId": "b161f99d-cd4b-40d7-fbab-baff91016dce"
      },
      "execution_count": 12,
      "outputs": [
        {
          "output_type": "execute_result",
          "data": {
            "text/plain": [
              "tensor([[0.8029, 0.4544],\n",
              "        [0.1058, 0.4232]])"
            ]
          },
          "metadata": {},
          "execution_count": 12
        }
      ]
    },
    {
      "cell_type": "code",
      "source": [
        "tensor_example.min() , torch.min(tensor_example)"
      ],
      "metadata": {
        "colab": {
          "base_uri": "https://localhost:8080/"
        },
        "id": "55BBnxbJCqqM",
        "outputId": "f2ea8787-5fdf-4291-f0ba-6d04ecda9b64"
      },
      "execution_count": 15,
      "outputs": [
        {
          "output_type": "execute_result",
          "data": {
            "text/plain": [
              "(tensor(0.1058), tensor(0.1058))"
            ]
          },
          "metadata": {},
          "execution_count": 15
        }
      ]
    },
    {
      "cell_type": "code",
      "source": [
        "tensor_example.max(), torch.max(tensor_example)"
      ],
      "metadata": {
        "colab": {
          "base_uri": "https://localhost:8080/"
        },
        "id": "EZ4DstrTC0Ca",
        "outputId": "8377f3d4-9b02-4801-ec3a-1e6b84ce2826"
      },
      "execution_count": 16,
      "outputs": [
        {
          "output_type": "execute_result",
          "data": {
            "text/plain": [
              "(tensor(0.8029), tensor(0.8029))"
            ]
          },
          "metadata": {},
          "execution_count": 16
        }
      ]
    },
    {
      "cell_type": "code",
      "source": [
        "tensor_example.sum()"
      ],
      "metadata": {
        "colab": {
          "base_uri": "https://localhost:8080/"
        },
        "id": "9-goilxKDAnS",
        "outputId": "9c575733-344d-4b42-80a8-3b61db2ee3b6"
      },
      "execution_count": 17,
      "outputs": [
        {
          "output_type": "execute_result",
          "data": {
            "text/plain": [
              "tensor(1.7863)"
            ]
          },
          "metadata": {},
          "execution_count": 17
        }
      ]
    },
    {
      "cell_type": "code",
      "source": [
        "tensor_example.argmin()"
      ],
      "metadata": {
        "colab": {
          "base_uri": "https://localhost:8080/"
        },
        "id": "O1LimlDwDDvi",
        "outputId": "5d23e9bc-701d-4d82-adfb-37ba38ad2237"
      },
      "execution_count": 18,
      "outputs": [
        {
          "output_type": "execute_result",
          "data": {
            "text/plain": [
              "tensor(2)"
            ]
          },
          "metadata": {},
          "execution_count": 18
        }
      ]
    },
    {
      "cell_type": "code",
      "source": [
        "tensor_example.argmax()"
      ],
      "metadata": {
        "colab": {
          "base_uri": "https://localhost:8080/"
        },
        "id": "XKwiSP2FDGyA",
        "outputId": "093168f6-90c1-48f1-cb08-f84934505ef9"
      },
      "execution_count": 22,
      "outputs": [
        {
          "output_type": "execute_result",
          "data": {
            "text/plain": [
              "tensor(0)"
            ]
          },
          "metadata": {},
          "execution_count": 22
        }
      ]
    },
    {
      "cell_type": "code",
      "source": [
        "torch.mean(tensor_example.type(torch.float32))"
      ],
      "metadata": {
        "colab": {
          "base_uri": "https://localhost:8080/"
        },
        "id": "K0AKHq06DJwG",
        "outputId": "13d7e628-4eb5-4950-83d0-6e8679e6ed98"
      },
      "execution_count": 23,
      "outputs": [
        {
          "output_type": "execute_result",
          "data": {
            "text/plain": [
              "tensor(0.4466)"
            ]
          },
          "metadata": {},
          "execution_count": 23
        }
      ]
    },
    {
      "cell_type": "markdown",
      "source": [
        "### Reshape, View , Squeeze, Unsqueeze, Stack,Permute"
      ],
      "metadata": {
        "id": "ZV4b8KSKmieY"
      }
    },
    {
      "cell_type": "code",
      "source": [
        "#Reshaping\n",
        "x = torch.arange(start=1.,end=10.)"
      ],
      "metadata": {
        "id": "jE2Ggr7PDtNm"
      },
      "execution_count": 40,
      "outputs": []
    },
    {
      "cell_type": "code",
      "source": [
        "x,x.shape"
      ],
      "metadata": {
        "colab": {
          "base_uri": "https://localhost:8080/"
        },
        "id": "tki9D5tGSjj7",
        "outputId": "00ce6074-4457-4652-8a2a-c503530bdc9f"
      },
      "execution_count": 41,
      "outputs": [
        {
          "output_type": "execute_result",
          "data": {
            "text/plain": [
              "(tensor([1., 2., 3., 4., 5., 6., 7., 8., 9.]), torch.Size([9]))"
            ]
          },
          "metadata": {},
          "execution_count": 41
        }
      ]
    },
    {
      "cell_type": "code",
      "source": [
        "#Add an extra dimension\n",
        "x_reshaped = x.reshape(1,9)\n",
        "x_reshaped, x_reshaped.shape"
      ],
      "metadata": {
        "colab": {
          "base_uri": "https://localhost:8080/"
        },
        "id": "0iLPKej8SkIa",
        "outputId": "23dfb775-7a2c-4ae2-c76b-37c35bc61178"
      },
      "execution_count": 42,
      "outputs": [
        {
          "output_type": "execute_result",
          "data": {
            "text/plain": [
              "(tensor([[1., 2., 3., 4., 5., 6., 7., 8., 9.]]), torch.Size([1, 9]))"
            ]
          },
          "metadata": {},
          "execution_count": 42
        }
      ]
    },
    {
      "cell_type": "code",
      "source": [
        "#change the view (quite similar to reshape)\n",
        "z =  x.view(1,9)\n",
        "z,z.shape"
      ],
      "metadata": {
        "colab": {
          "base_uri": "https://localhost:8080/"
        },
        "id": "E-44jGAmS0j5",
        "outputId": "e90d22ad-14da-4169-ff91-bfb7b21f063f"
      },
      "execution_count": 43,
      "outputs": [
        {
          "output_type": "execute_result",
          "data": {
            "text/plain": [
              "(tensor([[1., 2., 3., 4., 5., 6., 7., 8., 9.]]), torch.Size([1, 9]))"
            ]
          },
          "metadata": {},
          "execution_count": 43
        }
      ]
    },
    {
      "cell_type": "code",
      "source": [
        "#changes x will change the z. as thery are sharing same memory.\n",
        "x[0] = 55\n",
        "x,z"
      ],
      "metadata": {
        "colab": {
          "base_uri": "https://localhost:8080/"
        },
        "id": "oWeLUkumTU_k",
        "outputId": "1767540e-e13a-4b3b-9e18-2b0b99f4d03d"
      },
      "execution_count": 44,
      "outputs": [
        {
          "output_type": "execute_result",
          "data": {
            "text/plain": [
              "(tensor([55.,  2.,  3.,  4.,  5.,  6.,  7.,  8.,  9.]),\n",
              " tensor([[55.,  2.,  3.,  4.,  5.,  6.,  7.,  8.,  9.]]))"
            ]
          },
          "metadata": {},
          "execution_count": 44
        }
      ]
    },
    {
      "cell_type": "code",
      "source": [
        "#Stack tensors on top of each other.\n",
        "x_stacked =torch.stack([x,x,x,x],dim=0)\n",
        "x_stacked"
      ],
      "metadata": {
        "colab": {
          "base_uri": "https://localhost:8080/"
        },
        "id": "zxqus7jOT1R_",
        "outputId": "84131150-62c8-486d-f1d9-882609c198cd"
      },
      "execution_count": 50,
      "outputs": [
        {
          "output_type": "execute_result",
          "data": {
            "text/plain": [
              "tensor([[55.,  2.,  3.,  4.,  5.,  6.,  7.,  8.,  9.],\n",
              "        [55.,  2.,  3.,  4.,  5.,  6.,  7.,  8.,  9.],\n",
              "        [55.,  2.,  3.,  4.,  5.,  6.,  7.,  8.,  9.],\n",
              "        [55.,  2.,  3.,  4.,  5.,  6.,  7.,  8.,  9.]])"
            ]
          },
          "metadata": {},
          "execution_count": 50
        }
      ]
    },
    {
      "cell_type": "code",
      "source": [
        "x_stacked =torch.stack([x,x,x,x],dim=1)\n",
        "x_stacked"
      ],
      "metadata": {
        "colab": {
          "base_uri": "https://localhost:8080/"
        },
        "id": "LIxNrYbvUXy1",
        "outputId": "449beefb-de4f-451e-9c0c-4f8b5adb2449"
      },
      "execution_count": 51,
      "outputs": [
        {
          "output_type": "execute_result",
          "data": {
            "text/plain": [
              "tensor([[55., 55., 55., 55.],\n",
              "        [ 2.,  2.,  2.,  2.],\n",
              "        [ 3.,  3.,  3.,  3.],\n",
              "        [ 4.,  4.,  4.,  4.],\n",
              "        [ 5.,  5.,  5.,  5.],\n",
              "        [ 6.,  6.,  6.,  6.],\n",
              "        [ 7.,  7.,  7.,  7.],\n",
              "        [ 8.,  8.,  8.,  8.],\n",
              "        [ 9.,  9.,  9.,  9.]])"
            ]
          },
          "metadata": {},
          "execution_count": 51
        }
      ]
    },
    {
      "cell_type": "code",
      "source": [
        "#torch.squeeze() -- reomves all single dimensions from target tensors\n",
        "x_reshaped"
      ],
      "metadata": {
        "colab": {
          "base_uri": "https://localhost:8080/"
        },
        "id": "Ul1TRVt-VX5o",
        "outputId": "9d5a3019-cd37-4edf-8245-b8ea7011599a"
      },
      "execution_count": 52,
      "outputs": [
        {
          "output_type": "execute_result",
          "data": {
            "text/plain": [
              "tensor([[55.,  2.,  3.,  4.,  5.,  6.,  7.,  8.,  9.]])"
            ]
          },
          "metadata": {},
          "execution_count": 52
        }
      ]
    },
    {
      "cell_type": "code",
      "source": [
        "x_reshaped.shape"
      ],
      "metadata": {
        "colab": {
          "base_uri": "https://localhost:8080/"
        },
        "id": "EIzowggiaco2",
        "outputId": "e09f2b12-28ab-42f2-d2f3-c6742b73e23c"
      },
      "execution_count": 54,
      "outputs": [
        {
          "output_type": "execute_result",
          "data": {
            "text/plain": [
              "torch.Size([1, 9])"
            ]
          },
          "metadata": {},
          "execution_count": 54
        }
      ]
    },
    {
      "cell_type": "code",
      "source": [
        "x_reshaped.shape , x_reshaped.squeeze().shape"
      ],
      "metadata": {
        "colab": {
          "base_uri": "https://localhost:8080/"
        },
        "id": "1VaD430nagGK",
        "outputId": "f07c6282-2ff2-4baa-f75a-86a9d2ab2e4b"
      },
      "execution_count": 57,
      "outputs": [
        {
          "output_type": "execute_result",
          "data": {
            "text/plain": [
              "(torch.Size([1, 9]), torch.Size([9]))"
            ]
          },
          "metadata": {},
          "execution_count": 57
        }
      ]
    },
    {
      "cell_type": "code",
      "source": [
        "print(f\"Previous tensor: {x_reshaped}\")\n",
        "print(f\"Previous Shape: {x_reshaped.shape}\")\n",
        "x_squeezed = x_reshaped.squeeze()\n",
        "print(f\"New_Shape: {x_squeezed.shape}\")\n",
        "# Will remove all the one dimensions from the array.\n",
        "print(f\"New_Tensor: {x_squeezed}\")"
      ],
      "metadata": {
        "colab": {
          "base_uri": "https://localhost:8080/"
        },
        "id": "EsyOXWkxakbt",
        "outputId": "50d9bd38-f056-4d50-c1bb-a69c4c7a2db4"
      },
      "execution_count": 61,
      "outputs": [
        {
          "output_type": "stream",
          "name": "stdout",
          "text": [
            "Previous tensor: tensor([[55.,  2.,  3.,  4.,  5.,  6.,  7.,  8.,  9.]])\n",
            "Previous Shape: torch.Size([1, 9])\n",
            "New_Shape: torch.Size([9])\n",
            "New_Tensor: tensor([55.,  2.,  3.,  4.,  5.,  6.,  7.,  8.,  9.])\n"
          ]
        }
      ]
    },
    {
      "cell_type": "code",
      "source": [
        "print(f\"Previous-Target: {x_squeezed}\")\n",
        "print(f\"previous-Shape: {x_squeezed.shape}\")\n",
        "#torch.unsqueeze add a single dimension to a target tensor at a specific dim.\n",
        "x_unsqueezed  = x_squeezed.unsqueeze(dim=0)\n",
        "print(f\"New_Tensor: {x_unsqueezed}\")\n",
        "print(f\"New_Shape: {x_unsqueezed.shape}\")"
      ],
      "metadata": {
        "colab": {
          "base_uri": "https://localhost:8080/"
        },
        "id": "9vs6Btf8bVYd",
        "outputId": "0c0ae111-be06-4857-bf6b-ccb5f22302a2"
      },
      "execution_count": 67,
      "outputs": [
        {
          "output_type": "stream",
          "name": "stdout",
          "text": [
            "Previous-Target: tensor([55.,  2.,  3.,  4.,  5.,  6.,  7.,  8.,  9.])\n",
            "previous-Shape: torch.Size([9])\n",
            "New_Tensor: tensor([[55.,  2.,  3.,  4.,  5.,  6.,  7.,  8.,  9.]])\n",
            "New_Shape: torch.Size([1, 9])\n"
          ]
        }
      ]
    },
    {
      "cell_type": "code",
      "source": [
        "#torch.permute function rearranges the dimensions of tensor\n",
        "x_original = torch.rand(size=(224,224,3))\n",
        "print(f\"previous_shape:{x_original.shape}\")\n",
        "#After Permutation\n",
        "X_permuted = x_original.permute(2,0,1)\n",
        "print(f\"New_Shape: {X_permuted.shape}\") #channles,height,width"
      ],
      "metadata": {
        "colab": {
          "base_uri": "https://localhost:8080/"
        },
        "id": "AkADWGVucxRE",
        "outputId": "892a4ca6-de4a-41af-f149-411ffbb96f1e"
      },
      "execution_count": 70,
      "outputs": [
        {
          "output_type": "stream",
          "name": "stdout",
          "text": [
            "previous_shape:torch.Size([224, 224, 3])\n",
            "New_Shape: torch.Size([3, 224, 224])\n"
          ]
        }
      ]
    },
    {
      "cell_type": "code",
      "source": [
        "x_original[0][0][0] = 9999"
      ],
      "metadata": {
        "id": "6NFZldEbejrT"
      },
      "execution_count": 72,
      "outputs": []
    },
    {
      "cell_type": "code",
      "source": [
        "X_permuted[0][0][0]  #This also work as view."
      ],
      "metadata": {
        "colab": {
          "base_uri": "https://localhost:8080/"
        },
        "id": "HW2Q5bgggCZ0",
        "outputId": "57578fe1-0fbf-425b-b8c7-53db435a95f4"
      },
      "execution_count": 73,
      "outputs": [
        {
          "output_type": "execute_result",
          "data": {
            "text/plain": [
              "tensor(9999.)"
            ]
          },
          "metadata": {},
          "execution_count": 73
        }
      ]
    },
    {
      "cell_type": "code",
      "source": [
        "## Indexing with pyTorch\n",
        "x= torch.arange(1,10).reshape(1,3,3)\n",
        "x,x.shape"
      ],
      "metadata": {
        "colab": {
          "base_uri": "https://localhost:8080/"
        },
        "id": "zdte0gE0gI8D",
        "outputId": "38fedeb7-e40f-43e1-c3b4-59a3e175bb77"
      },
      "execution_count": 75,
      "outputs": [
        {
          "output_type": "execute_result",
          "data": {
            "text/plain": [
              "(tensor([[[1, 2, 3],\n",
              "          [4, 5, 6],\n",
              "          [7, 8, 9]]]),\n",
              " torch.Size([1, 3, 3]))"
            ]
          },
          "metadata": {},
          "execution_count": 75
        }
      ]
    },
    {
      "cell_type": "code",
      "source": [
        "x[0,1,1] #or x[0][1][1]"
      ],
      "metadata": {
        "colab": {
          "base_uri": "https://localhost:8080/"
        },
        "id": "HFmixf85hBOp",
        "outputId": "aabd74ee-c55f-4bfe-a90d-800d72722a23"
      },
      "execution_count": 79,
      "outputs": [
        {
          "output_type": "execute_result",
          "data": {
            "text/plain": [
              "tensor(5)"
            ]
          },
          "metadata": {},
          "execution_count": 79
        }
      ]
    },
    {
      "cell_type": "code",
      "source": [
        "x[0][2][2]"
      ],
      "metadata": {
        "colab": {
          "base_uri": "https://localhost:8080/"
        },
        "id": "IPVhEzMahMpG",
        "outputId": "7c0b0339-0c19-46e9-d046-3cc2620a7903"
      },
      "execution_count": 80,
      "outputs": [
        {
          "output_type": "execute_result",
          "data": {
            "text/plain": [
              "tensor(9)"
            ]
          },
          "metadata": {},
          "execution_count": 80
        }
      ]
    },
    {
      "cell_type": "code",
      "source": [
        "x[:,:, 1]"
      ],
      "metadata": {
        "colab": {
          "base_uri": "https://localhost:8080/"
        },
        "id": "1D-CGxJjh-Jb",
        "outputId": "1c8d7f29-4b4b-404c-d567-a5e8c8afbd52"
      },
      "execution_count": 86,
      "outputs": [
        {
          "output_type": "execute_result",
          "data": {
            "text/plain": [
              "tensor([[2, 5, 8]])"
            ]
          },
          "metadata": {},
          "execution_count": 86
        }
      ]
    },
    {
      "cell_type": "code",
      "source": [
        "x[0][1][1]"
      ],
      "metadata": {
        "colab": {
          "base_uri": "https://localhost:8080/"
        },
        "id": "3hbBB8bkiDH_",
        "outputId": "81e76823-f5bf-4373-998b-d22466089844"
      },
      "execution_count": 87,
      "outputs": [
        {
          "output_type": "execute_result",
          "data": {
            "text/plain": [
              "tensor(5)"
            ]
          },
          "metadata": {},
          "execution_count": 87
        }
      ]
    },
    {
      "cell_type": "code",
      "source": [
        "x[0][2][2]"
      ],
      "metadata": {
        "colab": {
          "base_uri": "https://localhost:8080/"
        },
        "id": "DLbrpnkii2tx",
        "outputId": "b8432a4b-4862-42ef-d672-914316ebfac3"
      },
      "execution_count": 92,
      "outputs": [
        {
          "output_type": "execute_result",
          "data": {
            "text/plain": [
              "tensor(9)"
            ]
          },
          "metadata": {},
          "execution_count": 92
        }
      ]
    },
    {
      "cell_type": "code",
      "source": [
        "x[:,:, 2]"
      ],
      "metadata": {
        "colab": {
          "base_uri": "https://localhost:8080/"
        },
        "id": "2xF9nNqHjd_z",
        "outputId": "354891c3-9340-494b-b7c1-d96c69ed2d21"
      },
      "execution_count": 94,
      "outputs": [
        {
          "output_type": "execute_result",
          "data": {
            "text/plain": [
              "tensor([[3, 6, 9]])"
            ]
          },
          "metadata": {},
          "execution_count": 94
        }
      ]
    },
    {
      "cell_type": "markdown",
      "source": [
        "### Pytorch Tensors & Numpy"
      ],
      "metadata": {
        "id": "8ofphbsRmbxf"
      }
    },
    {
      "cell_type": "code",
      "source": [
        "#Numpy array to tensor\n",
        "#By default it uses same as numpy float64\n",
        "import numpy as np\n",
        "import torch\n",
        "array = np.arange(1.0,8.0)\n",
        "tensor = torch.from_numpy(array).type(torch.float32)\n",
        "array,tensor"
      ],
      "metadata": {
        "colab": {
          "base_uri": "https://localhost:8080/"
        },
        "id": "S9r7dDGljp-V",
        "outputId": "522f3397-cd7e-47e8-9a57-16dea2d9d85e"
      },
      "execution_count": 99,
      "outputs": [
        {
          "output_type": "execute_result",
          "data": {
            "text/plain": [
              "(array([1., 2., 3., 4., 5., 6., 7.]), tensor([1., 2., 3., 4., 5., 6., 7.]))"
            ]
          },
          "metadata": {},
          "execution_count": 99
        }
      ]
    },
    {
      "cell_type": "code",
      "source": [
        "array.dtype,tensor.dtype"
      ],
      "metadata": {
        "colab": {
          "base_uri": "https://localhost:8080/"
        },
        "id": "CyPLoVyikjOv",
        "outputId": "1c1e2aac-9347-4b71-bb12-018344195f4d"
      },
      "execution_count": 100,
      "outputs": [
        {
          "output_type": "execute_result",
          "data": {
            "text/plain": [
              "(dtype('float64'), torch.float32)"
            ]
          },
          "metadata": {},
          "execution_count": 100
        }
      ]
    },
    {
      "cell_type": "code",
      "source": [
        "array = array+1 # does not change the value of tensor.\n",
        "array,tensor"
      ],
      "metadata": {
        "colab": {
          "base_uri": "https://localhost:8080/"
        },
        "id": "tyMXDoEVklsP",
        "outputId": "3a605007-406e-49d0-a5fd-4eb9671eaa95"
      },
      "execution_count": 101,
      "outputs": [
        {
          "output_type": "execute_result",
          "data": {
            "text/plain": [
              "(array([2., 3., 4., 5., 6., 7., 8.]), tensor([1., 2., 3., 4., 5., 6., 7.]))"
            ]
          },
          "metadata": {},
          "execution_count": 101
        }
      ]
    },
    {
      "cell_type": "code",
      "source": [
        "#Tensor to Array\n",
        "tensor_numpy = torch.ones(7)\n",
        "numpy_array = tensor_numpy.numpy()\n",
        "tensor_numpy.dtype , numpy_array.dtype"
      ],
      "metadata": {
        "colab": {
          "base_uri": "https://localhost:8080/"
        },
        "id": "TrvuDTMllXlf",
        "outputId": "abf4bb0a-5c73-4c14-be4f-9f362886daa9"
      },
      "execution_count": 105,
      "outputs": [
        {
          "output_type": "execute_result",
          "data": {
            "text/plain": [
              "(torch.float32, dtype('float32'))"
            ]
          },
          "metadata": {},
          "execution_count": 105
        }
      ]
    },
    {
      "cell_type": "code",
      "source": [
        "tensor_numpy =tensor_numpy+1\n",
        "tensor_numpy,numpy_array"
      ],
      "metadata": {
        "colab": {
          "base_uri": "https://localhost:8080/"
        },
        "id": "r8y2oINJl2zf",
        "outputId": "e62bf65c-e80a-43e7-acf7-cbb69595ac94"
      },
      "execution_count": 106,
      "outputs": [
        {
          "output_type": "execute_result",
          "data": {
            "text/plain": [
              "(tensor([2., 2., 2., 2., 2., 2., 2.]),\n",
              " array([1., 1., 1., 1., 1., 1., 1.], dtype=float32))"
            ]
          },
          "metadata": {},
          "execution_count": 106
        }
      ]
    },
    {
      "cell_type": "code",
      "source": [],
      "metadata": {
        "id": "qfEEoHsomWdd"
      },
      "execution_count": null,
      "outputs": []
    }
  ]
}